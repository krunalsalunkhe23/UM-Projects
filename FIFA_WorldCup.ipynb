{
 "cells": [
  {
   "cell_type": "code",
   "execution_count": 1,
   "id": "8dbd4cff-08d8-4bbc-a81b-3f905503da65",
   "metadata": {},
   "outputs": [
    {
     "name": "stdout",
     "output_type": "stream",
     "text": [
      "Top Teams by Player Goals Scored:\n",
      " Team Initials\n",
      "BRA    176\n",
      "FRG    103\n",
      "ITA    100\n",
      "ARG     98\n",
      "GER     80\n",
      "FRA     79\n",
      "NED     72\n",
      "ESP     65\n",
      "URU     62\n",
      "SWE     59\n",
      "Name: count, dtype: int64\n"
     ]
    }
   ],
   "source": [
    "# Import pandas if not already imported\n",
    "import pandas as pd\n",
    "\n",
    "# Load datasets\n",
    "matches_df = pd.read_csv('D:/Datset/WorldCupMatches.csv')\n",
    "players_df = pd.read_csv('D:/Datset/WorldCupPlayers.csv')\n",
    "\n",
    "# Filter rows in players_df for goals scored (assuming 'G' in 'Event' indicates a goal)\n",
    "goal_events = players_df[players_df['Event'].str.contains('G', na=False)]\n",
    "\n",
    "# Count the number of goals scored by players from each team\n",
    "top_team_goals = goal_events['Team Initials'].value_counts().head(10)\n",
    "\n",
    "print(\"Top Teams by Player Goals Scored:\\n\", top_team_goals)\n"
   ]
  },
  {
   "cell_type": "code",
   "execution_count": 2,
   "id": "b9b793dc-880e-4df4-8d3f-f248200e5d09",
   "metadata": {},
   "outputs": [
    {
     "name": "stdout",
     "output_type": "stream",
     "text": [
      "Top Teams by Match Wins:\n",
      " Winning Team\n",
      "Brazil         71\n",
      "Italy          45\n",
      "Argentina      44\n",
      "Germany FR     36\n",
      "Germany        34\n",
      "France         29\n",
      "Netherlands    29\n",
      "Spain          29\n",
      "England        26\n",
      "Uruguay        20\n",
      "Name: count, dtype: int64\n"
     ]
    }
   ],
   "source": [
    "# Calculate the winning team for each match in matches_df\n",
    "matches_df['Winning Team'] = matches_df.apply(\n",
    "    lambda row: row['Home Team Name'] if row['Home Team Goals'] > row['Away Team Goals']\n",
    "    else row['Away Team Name'] if row['Away Team Goals'] > row['Home Team Goals']\n",
    "    else 'Draw', axis=1\n",
    ")\n",
    "\n",
    "# Count the wins for each team across all matches\n",
    "team_wins = matches_df[matches_df['Winning Team'] != 'Draw']['Winning Team'].value_counts()\n",
    "\n",
    "print(\"Top Teams by Match Wins:\\n\", team_wins.head(10))\n"
   ]
  },
  {
   "cell_type": "code",
   "execution_count": 3,
   "id": "9aa0a255-ff39-4e1d-9506-5f9be3014b6f",
   "metadata": {},
   "outputs": [
    {
     "name": "stdout",
     "output_type": "stream",
     "text": [
      "Average Goals per Match: 2.8333333333333335\n",
      "Average Attendance per Match: 45164.8\n"
     ]
    }
   ],
   "source": [
    "# Total goals scored in each match\n",
    "matches_df['Total Goals'] = matches_df['Home Team Goals'] + matches_df['Away Team Goals']\n",
    "avg_goals_per_match = matches_df['Total Goals'].mean()\n",
    "\n",
    "# Average attendance per match\n",
    "avg_attendance = matches_df['Attendance'].mean()\n",
    "\n",
    "print(f\"Average Goals per Match: {avg_goals_per_match}\")\n",
    "print(f\"Average Attendance per Match: {avg_attendance}\")"
   ]
  },
  {
   "cell_type": "code",
   "execution_count": 4,
   "id": "2d8c0840-dbed-48e1-9ecc-7162692f5dcd",
   "metadata": {},
   "outputs": [
    {
     "name": "stdout",
     "output_type": "stream",
     "text": [
      "   Year      Country      Winner      Runners-Up    Third      Fourth  \\\n",
      "0  1930      Uruguay     Uruguay       Argentina      USA  Yugoslavia   \n",
      "1  1934        Italy       Italy  Czechoslovakia  Germany     Austria   \n",
      "2  1938       France       Italy         Hungary   Brazil      Sweden   \n",
      "3  1950       Brazil     Uruguay          Brazil   Sweden       Spain   \n",
      "4  1954  Switzerland  Germany FR         Hungary  Austria     Uruguay   \n",
      "\n",
      "   GoalsScored  QualifiedTeams  MatchesPlayed Attendance  \n",
      "0           70              13             18    590.549  \n",
      "1           70              16             17    363.000  \n",
      "2           84              15             18    375.700  \n",
      "3           88              13             22  1.045.246  \n",
      "4          140              16             26    768.607  \n"
     ]
    }
   ],
   "source": [
    "# Load the World Cups data\n",
    "world_cups_df = pd.read_csv('D:/Datset/WorldCups.csv')\n",
    "\n",
    "# Display the first few rows to understand its structure\n",
    "print(world_cups_df.head())"
   ]
  },
  {
   "cell_type": "code",
   "execution_count": 5,
   "id": "c9f8588e-11d5-430f-8cd8-1415b882bee9",
   "metadata": {},
   "outputs": [
    {
     "name": "stdout",
     "output_type": "stream",
     "text": [
      "Top Teams by World Cup Wins:\n",
      " Winner\n",
      "Brazil        5\n",
      "Italy         4\n",
      "Germany FR    3\n",
      "Uruguay       2\n",
      "Argentina     2\n",
      "England       1\n",
      "France        1\n",
      "Spain         1\n",
      "Germany       1\n",
      "Name: count, dtype: int64\n"
     ]
    }
   ],
   "source": [
    "# Count of World Cup wins by each country\n",
    "top_winners = world_cups_df['Winner'].value_counts()\n",
    "print(\"Top Teams by World Cup Wins:\\n\", top_winners)"
   ]
  },
  {
   "cell_type": "code",
   "execution_count": 7,
   "id": "1e8d9679-ac78-4109-bdbd-d5bb3302bd02",
   "metadata": {},
   "outputs": [
    {
     "name": "stdout",
     "output_type": "stream",
     "text": [
      "Year               int64\n",
      "Country           object\n",
      "Winner            object\n",
      "Runners-Up        object\n",
      "Third             object\n",
      "Fourth            object\n",
      "GoalsScored        int64\n",
      "QualifiedTeams     int64\n",
      "MatchesPlayed      int64\n",
      "Attendance        object\n",
      "dtype: object\n"
     ]
    },
    {
     "data": {
      "text/plain": [
       "<Axes: title={'center': 'World Cup Attendance Over Time'}, xlabel='Year'>"
      ]
     },
     "execution_count": 7,
     "metadata": {},
     "output_type": "execute_result"
    },
    {
     "data": {
      "image/png": "[encoded data removed]",
      "text/plain": [
       "<Figure size 640x480 with 1 Axes>"
      ]
     },
     "metadata": {},
     "output_type": "display_data"
    }
   ],
   "source": [
    "# Check the data types of the columns\n",
    "print(world_cups_df.dtypes)\n",
    "# Convert Year and Attendance to numeric types if necessary\n",
    "world_cups_df['Year'] = pd.to_numeric(world_cups_df['Year'], errors='coerce')\n",
    "world_cups_df['Attendance'] = pd.to_numeric(world_cups_df['Attendance'], errors='coerce')\n",
    "# Drop rows with NaN values in Year or Attendance\n",
    "world_cups_df.dropna(subset=['Year', 'Attendance'], inplace=True)\n",
    "world_cups_df.plot(x='Year', y='Attendance', kind='line', title='World Cup Attendance Over Time')"
   ]
  },
  {
   "cell_type": "code",
   "execution_count": null,
   "id": "fad1c55f-fc1c-4d3c-95a3-7eb137c18652",
   "metadata": {},
   "outputs": [],
   "source": []
  }
 ],
 "metadata": {
  "kernelspec": {
   "display_name": "Python 3 (ipykernel)",
   "language": "python",
   "name": "python3"
  },
  "language_info": {
   "codemirror_mode": {
    "name": "ipython",
    "version": 3
   },
   "file_extension": ".py",
   "mimetype": "text/x-python",
   "name": "python",
   "nbconvert_exporter": "python",
   "pygments_lexer": "ipython3",
   "version": "3.12.4"
  }
 },
 "nbformat": 4,
 "nbformat_minor": 5
}
